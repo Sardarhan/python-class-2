{
 "cells": [
  {
   "cell_type": "markdown",
   "id": "daefe085",
   "metadata": {},
   "source": [
    "s=\"sardar\""
   ]
  },
  {
   "cell_type": "markdown",
   "id": "985ef002",
   "metadata": {},
   "source": [
    "#  indexing"
   ]
  },
  {
   "cell_type": "code",
   "execution_count": 4,
   "id": "0f847f74",
   "metadata": {},
   "outputs": [
    {
     "data": {
      "text/plain": [
       "str"
      ]
     },
     "execution_count": 4,
     "metadata": {},
     "output_type": "execute_result"
    }
   ],
   "source": [
    "#indextype(s)"
   ]
  },
  {
   "cell_type": "code",
   "execution_count": 5,
   "id": "4c1f789c",
   "metadata": {},
   "outputs": [
    {
     "data": {
      "text/plain": [
       "'s'"
      ]
     },
     "execution_count": 5,
     "metadata": {},
     "output_type": "execute_result"
    }
   ],
   "source": [
    "#indexing\n",
    "s[0]"
   ]
  },
  {
   "cell_type": "code",
   "execution_count": 6,
   "id": "cc8cf753",
   "metadata": {},
   "outputs": [
    {
     "data": {
      "text/plain": [
       "'r'"
      ]
     },
     "execution_count": 6,
     "metadata": {},
     "output_type": "execute_result"
    }
   ],
   "source": [
    "s[2]"
   ]
  },
  {
   "cell_type": "code",
   "execution_count": 7,
   "id": "01723e07",
   "metadata": {},
   "outputs": [
    {
     "data": {
      "text/plain": [
       "'d'"
      ]
     },
     "execution_count": 7,
     "metadata": {},
     "output_type": "execute_result"
    }
   ],
   "source": [
    "s[3]"
   ]
  },
  {
   "cell_type": "code",
   "execution_count": 8,
   "id": "0d1199aa",
   "metadata": {},
   "outputs": [
    {
     "data": {
      "text/plain": [
       "'a'"
      ]
     },
     "execution_count": 8,
     "metadata": {},
     "output_type": "execute_result"
    }
   ],
   "source": [
    "s[4]"
   ]
  },
  {
   "cell_type": "code",
   "execution_count": 9,
   "id": "8969ab16",
   "metadata": {},
   "outputs": [
    {
     "data": {
      "text/plain": [
       "'r'"
      ]
     },
     "execution_count": 9,
     "metadata": {},
     "output_type": "execute_result"
    }
   ],
   "source": [
    "s[5]"
   ]
  },
  {
   "cell_type": "code",
   "execution_count": 10,
   "id": "e54101e3",
   "metadata": {},
   "outputs": [
    {
     "data": {
      "text/plain": [
       "'r'"
      ]
     },
     "execution_count": 10,
     "metadata": {},
     "output_type": "execute_result"
    }
   ],
   "source": [
    "s[-1]"
   ]
  },
  {
   "cell_type": "code",
   "execution_count": 11,
   "id": "a6705086",
   "metadata": {},
   "outputs": [
    {
     "data": {
      "text/plain": [
       "'a'"
      ]
     },
     "execution_count": 11,
     "metadata": {},
     "output_type": "execute_result"
    }
   ],
   "source": [
    "s[-2]"
   ]
  },
  {
   "cell_type": "code",
   "execution_count": 12,
   "id": "72e018e4",
   "metadata": {},
   "outputs": [
    {
     "data": {
      "text/plain": [
       "'d'"
      ]
     },
     "execution_count": 12,
     "metadata": {},
     "output_type": "execute_result"
    }
   ],
   "source": [
    "s[-3]"
   ]
  },
  {
   "cell_type": "code",
   "execution_count": 13,
   "id": "23e54aba",
   "metadata": {},
   "outputs": [
    {
     "data": {
      "text/plain": [
       "'r'"
      ]
     },
     "execution_count": 13,
     "metadata": {},
     "output_type": "execute_result"
    }
   ],
   "source": [
    "s[-4]"
   ]
  },
  {
   "cell_type": "code",
   "execution_count": 14,
   "id": "c4335f26",
   "metadata": {},
   "outputs": [],
   "source": [
    "a=\"my name is sardar\""
   ]
  },
  {
   "cell_type": "code",
   "execution_count": 15,
   "id": "bb08344f",
   "metadata": {},
   "outputs": [
    {
     "data": {
      "text/plain": [
       "'m'"
      ]
     },
     "execution_count": 15,
     "metadata": {},
     "output_type": "execute_result"
    }
   ],
   "source": [
    "a[0]"
   ]
  },
  {
   "cell_type": "code",
   "execution_count": 16,
   "id": "6ee1f796",
   "metadata": {},
   "outputs": [
    {
     "data": {
      "text/plain": [
       "'s'"
      ]
     },
     "execution_count": 16,
     "metadata": {},
     "output_type": "execute_result"
    }
   ],
   "source": [
    "a[-6]"
   ]
  },
  {
   "cell_type": "code",
   "execution_count": 17,
   "id": "bf20b2ce",
   "metadata": {},
   "outputs": [
    {
     "data": {
      "text/plain": [
       "' '"
      ]
     },
     "execution_count": 17,
     "metadata": {},
     "output_type": "execute_result"
    }
   ],
   "source": [
    "a[-7]"
   ]
  },
  {
   "cell_type": "code",
   "execution_count": 26,
   "id": "a5c2b05f",
   "metadata": {},
   "outputs": [
    {
     "data": {
      "text/plain": [
       "'my name is sardar'"
      ]
     },
     "execution_count": 26,
     "metadata": {},
     "output_type": "execute_result"
    }
   ],
   "source": [
    "a[0:100]"
   ]
  },
  {
   "cell_type": "code",
   "execution_count": 19,
   "id": "147c9196",
   "metadata": {},
   "outputs": [
    {
     "data": {
      "text/plain": [
       "'my name is sardar'"
      ]
     },
     "execution_count": 19,
     "metadata": {},
     "output_type": "execute_result"
    }
   ],
   "source": [
    "a"
   ]
  },
  {
   "cell_type": "code",
   "execution_count": 20,
   "id": "568ad186",
   "metadata": {},
   "outputs": [
    {
     "data": {
      "text/plain": [
       "'my name is'"
      ]
     },
     "execution_count": 20,
     "metadata": {},
     "output_type": "execute_result"
    }
   ],
   "source": [
    "a[0:10]"
   ]
  },
  {
   "cell_type": "code",
   "execution_count": 21,
   "id": "13f3a4cc",
   "metadata": {},
   "outputs": [
    {
     "data": {
      "text/plain": [
       "'my name is sardar'"
      ]
     },
     "execution_count": 21,
     "metadata": {},
     "output_type": "execute_result"
    }
   ],
   "source": [
    "a[0:17]"
   ]
  },
  {
   "cell_type": "code",
   "execution_count": 22,
   "id": "84073466",
   "metadata": {},
   "outputs": [],
   "source": [
    "b=\"ineuron\""
   ]
  },
  {
   "cell_type": "code",
   "execution_count": 23,
   "id": "e6b08219",
   "metadata": {},
   "outputs": [
    {
     "data": {
      "text/plain": [
       "'ine'"
      ]
     },
     "execution_count": 23,
     "metadata": {},
     "output_type": "execute_result"
    }
   ],
   "source": [
    "b[0:3]"
   ]
  },
  {
   "cell_type": "code",
   "execution_count": 24,
   "id": "963e74d0",
   "metadata": {},
   "outputs": [
    {
     "data": {
      "text/plain": [
       "'ineuron'"
      ]
     },
     "execution_count": 24,
     "metadata": {},
     "output_type": "execute_result"
    }
   ],
   "source": [
    "b[0:300]"
   ]
  },
  {
   "cell_type": "code",
   "execution_count": 25,
   "id": "0e1b720f",
   "metadata": {},
   "outputs": [
    {
     "ename": "IndexError",
     "evalue": "string index out of range",
     "output_type": "error",
     "traceback": [
      "\u001b[1;31m---------------------------------------------------------------------------\u001b[0m",
      "\u001b[1;31mIndexError\u001b[0m                                Traceback (most recent call last)",
      "\u001b[1;32m~\\AppData\\Local\\Temp/ipykernel_9620/2380424124.py\u001b[0m in \u001b[0;36m<module>\u001b[1;34m\u001b[0m\n\u001b[1;32m----> 1\u001b[1;33m \u001b[0mb\u001b[0m\u001b[1;33m[\u001b[0m\u001b[1;36m300\u001b[0m\u001b[1;33m]\u001b[0m\u001b[1;33m\u001b[0m\u001b[1;33m\u001b[0m\u001b[0m\n\u001b[0m",
      "\u001b[1;31mIndexError\u001b[0m: string index out of range"
     ]
    }
   ],
   "source": [
    "b[300]"
   ]
  },
  {
   "cell_type": "code",
   "execution_count": 27,
   "id": "97550262",
   "metadata": {},
   "outputs": [
    {
     "data": {
      "text/plain": [
       "'n'"
      ]
     },
     "execution_count": 27,
     "metadata": {},
     "output_type": "execute_result"
    }
   ],
   "source": [
    "b[-1]"
   ]
  },
  {
   "cell_type": "code",
   "execution_count": 28,
   "id": "95df077f",
   "metadata": {},
   "outputs": [
    {
     "ename": "IndexError",
     "evalue": "string index out of range",
     "output_type": "error",
     "traceback": [
      "\u001b[1;31m---------------------------------------------------------------------------\u001b[0m",
      "\u001b[1;31mIndexError\u001b[0m                                Traceback (most recent call last)",
      "\u001b[1;32m~\\AppData\\Local\\Temp/ipykernel_9620/3371902095.py\u001b[0m in \u001b[0;36m<module>\u001b[1;34m\u001b[0m\n\u001b[1;32m----> 1\u001b[1;33m \u001b[0mb\u001b[0m\u001b[1;33m[\u001b[0m\u001b[1;33m-\u001b[0m\u001b[1;36m100\u001b[0m\u001b[1;33m]\u001b[0m\u001b[1;33m\u001b[0m\u001b[1;33m\u001b[0m\u001b[0m\n\u001b[0m",
      "\u001b[1;31mIndexError\u001b[0m: string index out of range"
     ]
    }
   ],
   "source": [
    "b[-100]"
   ]
  },
  {
   "cell_type": "code",
   "execution_count": 29,
   "id": "533df9e8",
   "metadata": {},
   "outputs": [
    {
     "data": {
      "text/plain": [
       "''"
      ]
     },
     "execution_count": 29,
     "metadata": {},
     "output_type": "execute_result"
    }
   ],
   "source": [
    "b[-1:-100]"
   ]
  },
  {
   "cell_type": "code",
   "execution_count": 30,
   "id": "48eb4518",
   "metadata": {},
   "outputs": [],
   "source": [
    "a='khan'"
   ]
  },
  {
   "cell_type": "code",
   "execution_count": 33,
   "id": "b439ece8",
   "metadata": {},
   "outputs": [
    {
     "data": {
      "text/plain": [
       "'khan'"
      ]
     },
     "execution_count": 33,
     "metadata": {},
     "output_type": "execute_result"
    }
   ],
   "source": [
    "a[0:300:1]"
   ]
  },
  {
   "cell_type": "code",
   "execution_count": 34,
   "id": "4ab8bcb2",
   "metadata": {},
   "outputs": [
    {
     "data": {
      "text/plain": [
       "'ka'"
      ]
     },
     "execution_count": 34,
     "metadata": {},
     "output_type": "execute_result"
    }
   ],
   "source": [
    "a[0:300:2]"
   ]
  },
  {
   "cell_type": "code",
   "execution_count": 35,
   "id": "dc5c74ee",
   "metadata": {},
   "outputs": [
    {
     "data": {
      "text/plain": [
       "'kn'"
      ]
     },
     "execution_count": 35,
     "metadata": {},
     "output_type": "execute_result"
    }
   ],
   "source": [
    "a[0:300:3]"
   ]
  },
  {
   "cell_type": "code",
   "execution_count": 36,
   "id": "902aece6",
   "metadata": {},
   "outputs": [
    {
     "data": {
      "text/plain": [
       "''"
      ]
     },
     "execution_count": 36,
     "metadata": {},
     "output_type": "execute_result"
    }
   ],
   "source": [
    "a[0:300:-1]"
   ]
  },
  {
   "cell_type": "code",
   "execution_count": 40,
   "id": "69476a46",
   "metadata": {},
   "outputs": [
    {
     "data": {
      "text/plain": [
       "'nah'"
      ]
     },
     "execution_count": 40,
     "metadata": {},
     "output_type": "execute_result"
    }
   ],
   "source": [
    "a[-1:-4:-1]"
   ]
  },
  {
   "cell_type": "code",
   "execution_count": 41,
   "id": "508f5fe1",
   "metadata": {},
   "outputs": [
    {
     "data": {
      "text/plain": [
       "'k'"
      ]
     },
     "execution_count": 41,
     "metadata": {},
     "output_type": "execute_result"
    }
   ],
   "source": [
    "a[0:-10:-1]"
   ]
  },
  {
   "cell_type": "code",
   "execution_count": 42,
   "id": "1dd189ae",
   "metadata": {},
   "outputs": [
    {
     "data": {
      "text/plain": [
       "'khan'"
      ]
     },
     "execution_count": 42,
     "metadata": {},
     "output_type": "execute_result"
    }
   ],
   "source": [
    "a\n"
   ]
  },
  {
   "cell_type": "code",
   "execution_count": 43,
   "id": "62deb65e",
   "metadata": {},
   "outputs": [
    {
     "data": {
      "text/plain": [
       "'khan'"
      ]
     },
     "execution_count": 43,
     "metadata": {},
     "output_type": "execute_result"
    }
   ],
   "source": [
    "a[::]"
   ]
  },
  {
   "cell_type": "code",
   "execution_count": 44,
   "id": "8aba41f5",
   "metadata": {},
   "outputs": [
    {
     "data": {
      "text/plain": [
       "'khan'"
      ]
     },
     "execution_count": 44,
     "metadata": {},
     "output_type": "execute_result"
    }
   ],
   "source": [
    "a[:8]"
   ]
  },
  {
   "cell_type": "code",
   "execution_count": 45,
   "id": "08a083eb",
   "metadata": {},
   "outputs": [
    {
     "data": {
      "text/plain": [
       "''"
      ]
     },
     "execution_count": 45,
     "metadata": {},
     "output_type": "execute_result"
    }
   ],
   "source": [
    "a[-1:10:-1]"
   ]
  },
  {
   "cell_type": "code",
   "execution_count": 47,
   "id": "dae3f1f9",
   "metadata": {},
   "outputs": [
    {
     "data": {
      "text/plain": [
       "'an'"
      ]
     },
     "execution_count": 47,
     "metadata": {},
     "output_type": "execute_result"
    }
   ],
   "source": [
    "a[-2:\n",
    " ]"
   ]
  },
  {
   "cell_type": "code",
   "execution_count": 48,
   "id": "ae7aca02",
   "metadata": {},
   "outputs": [
    {
     "data": {
      "text/plain": [
       "'khan'"
      ]
     },
     "execution_count": 48,
     "metadata": {},
     "output_type": "execute_result"
    }
   ],
   "source": [
    "a"
   ]
  },
  {
   "cell_type": "code",
   "execution_count": 49,
   "id": "b1af43c0",
   "metadata": {},
   "outputs": [
    {
     "data": {
      "text/plain": [
       "'han'"
      ]
     },
     "execution_count": 49,
     "metadata": {},
     "output_type": "execute_result"
    }
   ],
   "source": [
    "a[-3:]"
   ]
  },
  {
   "cell_type": "code",
   "execution_count": 50,
   "id": "0a3295e1",
   "metadata": {},
   "outputs": [
    {
     "data": {
      "text/plain": [
       "'a'"
      ]
     },
     "execution_count": 50,
     "metadata": {},
     "output_type": "execute_result"
    }
   ],
   "source": [
    "a[-2:-1]"
   ]
  },
  {
   "cell_type": "code",
   "execution_count": 51,
   "id": "6e4518b8",
   "metadata": {},
   "outputs": [
    {
     "data": {
      "text/plain": [
       "''"
      ]
     },
     "execution_count": 51,
     "metadata": {},
     "output_type": "execute_result"
    }
   ],
   "source": [
    "a[-1:-1]"
   ]
  },
  {
   "cell_type": "code",
   "execution_count": 52,
   "id": "2ae16bcd",
   "metadata": {},
   "outputs": [
    {
     "data": {
      "text/plain": [
       "'khan'"
      ]
     },
     "execution_count": 52,
     "metadata": {},
     "output_type": "execute_result"
    }
   ],
   "source": [
    "a[-4:]"
   ]
  },
  {
   "cell_type": "code",
   "execution_count": 53,
   "id": "89fd6dc6",
   "metadata": {},
   "outputs": [
    {
     "ename": "SyntaxError",
     "evalue": "invalid syntax (Temp/ipykernel_9620/2419144338.py, line 1)",
     "output_type": "error",
     "traceback": [
      "\u001b[1;36m  File \u001b[1;32m\"C:\\Users\\SARDAR\\AppData\\Local\\Temp/ipykernel_9620/2419144338.py\"\u001b[1;36m, line \u001b[1;32m1\u001b[0m\n\u001b[1;33m    a{::-1}\u001b[0m\n\u001b[1;37m     ^\u001b[0m\n\u001b[1;31mSyntaxError\u001b[0m\u001b[1;31m:\u001b[0m invalid syntax\n"
     ]
    }
   ],
   "source": [
    "a{::-1}"
   ]
  },
  {
   "cell_type": "code",
   "execution_count": 54,
   "id": "99e7ec65",
   "metadata": {},
   "outputs": [
    {
     "data": {
      "text/plain": [
       "'nahk'"
      ]
     },
     "execution_count": 54,
     "metadata": {},
     "output_type": "execute_result"
    }
   ],
   "source": [
    "a[::-1]"
   ]
  },
  {
   "cell_type": "code",
   "execution_count": 55,
   "id": "0e6cf18c",
   "metadata": {},
   "outputs": [
    {
     "data": {
      "text/plain": [
       "'nahk'"
      ]
     },
     "execution_count": 55,
     "metadata": {},
     "output_type": "execute_result"
    }
   ],
   "source": [
    "a[-1::-1]"
   ]
  },
  {
   "cell_type": "code",
   "execution_count": 56,
   "id": "46812ef3",
   "metadata": {},
   "outputs": [],
   "source": [
    "a='i am working with ineuron'"
   ]
  },
  {
   "cell_type": "code",
   "execution_count": 57,
   "id": "fcc889c4",
   "metadata": {},
   "outputs": [
    {
     "data": {
      "text/plain": [
       "'norueni htiw gnikrow ma i'"
      ]
     },
     "execution_count": 57,
     "metadata": {},
     "output_type": "execute_result"
    }
   ],
   "source": [
    "a[::-1]"
   ]
  },
  {
   "cell_type": "code",
   "execution_count": 58,
   "id": "969892b7",
   "metadata": {},
   "outputs": [
    {
     "data": {
      "text/plain": [
       "''"
      ]
     },
     "execution_count": 58,
     "metadata": {},
     "output_type": "execute_result"
    }
   ],
   "source": [
    "a[-5:-5]"
   ]
  },
  {
   "cell_type": "code",
   "execution_count": 59,
   "id": "e91027e2",
   "metadata": {},
   "outputs": [
    {
     "data": {
      "text/plain": [
       "'eni htiw gnikro'"
      ]
     },
     "execution_count": 59,
     "metadata": {},
     "output_type": "execute_result"
    }
   ],
   "source": [
    "a[-5:5:-1]"
   ]
  },
  {
   "cell_type": "code",
   "execution_count": 60,
   "id": "c6ae070c",
   "metadata": {},
   "outputs": [
    {
     "data": {
      "text/plain": [
       "'orueni h'"
      ]
     },
     "execution_count": 60,
     "metadata": {},
     "output_type": "execute_result"
    }
   ],
   "source": [
    "#string slicing\n",
    "\n",
    " a[-2:-10:-1]"
   ]
  },
  {
   "cell_type": "code",
   "execution_count": 61,
   "id": "c9f8397a",
   "metadata": {},
   "outputs": [
    {
     "data": {
      "text/plain": [
       "'i am working with ineuron'"
      ]
     },
     "execution_count": 61,
     "metadata": {},
     "output_type": "execute_result"
    }
   ],
   "source": [
    "a"
   ]
  },
  {
   "cell_type": "code",
   "execution_count": 62,
   "id": "3519d304",
   "metadata": {},
   "outputs": [
    {
     "data": {
      "text/plain": [
       "'khankhankhan'"
      ]
     },
     "execution_count": 62,
     "metadata": {},
     "output_type": "execute_result"
    }
   ],
   "source": [
    "\"khan\"*3"
   ]
  },
  {
   "cell_type": "code",
   "execution_count": 63,
   "id": "b670e364",
   "metadata": {},
   "outputs": [
    {
     "data": {
      "text/plain": [
       "'sardarkhan'"
      ]
     },
     "execution_count": 63,
     "metadata": {},
     "output_type": "execute_result"
    }
   ],
   "source": [
    "\"sardar\"+\"khan\""
   ]
  },
  {
   "cell_type": "code",
   "execution_count": 64,
   "id": "10434211",
   "metadata": {},
   "outputs": [
    {
     "data": {
      "text/plain": [
       "'sardarsardarsardarsardarsardarsardarsardarsardarsardarsardarsardarsardarsardarsardarsardarsardarsardarsardarsardarsardarsardarsardarsardarsardarsardarsardarsardarsardarsardarsardarsardarsardarsardarsardarsardarsardarsardarsardarsardarsardarsardarsardarsardarsardarsardarsardarsardarsardarsardarsardarsardarsardarsardarsardarsardarsardarsardarsardarsardarsardarsardarsardarsardarsardarsardarsardarsardarsardarsardarsardarsardarsardarsardarsardarsardarsardarsardarsardarsardarsardarsardarsardarsardarsardarsardarsardarsardarsardarsardarsardarsardarsardarsardarsardarsardarsardarsardarsardarsardarsardar'"
      ]
     },
     "execution_count": 64,
     "metadata": {},
     "output_type": "execute_result"
    }
   ],
   "source": [
    "\"sardar\"*100"
   ]
  },
  {
   "cell_type": "code",
   "execution_count": 65,
   "id": "8273ddfd",
   "metadata": {},
   "outputs": [
    {
     "data": {
      "text/plain": [
       "'EawwwwwwwEawwwwwwwEawwwwwwwEawwwwwwwEawwwwwwwEawwwwwwwEawwwwwwwEawwwwwwwEawwwwwwwEawwwwwwwEawwwwwwwEawwwwwwwEawwwwwwwEawwwwwwwEawwwwwwwEawwwwwwwEawwwwwwwEawwwwwwwEawwwwwwwEawwwwwwwEawwwwwwwEawwwwwwwEawwwwwwwEawwwwwwwEawwwwwwwEawwwwwwwEawwwwwwwEawwwwwwwEawwwwwwwEawwwwwwwEawwwwwwwEawwwwwwwEawwwwwwwEawwwwwwwEawwwwwwwEawwwwwwwEawwwwwwwEawwwwwwwEawwwwwwwEawwwwwwwEawwwwwwwEawwwwwwwEawwwwwwwEawwwwwwwEawwwwwwwEawwwwwwwEawwwwwwwEawwwwwwwEawwwwwwwEawwwwwwwEawwwwwwwEawwwwwwwEawwwwwwwEawwwwwwwEawwwwwwwEawwwwwwwEawwwwwwwEawwwwwwwEawwwwwwwEawwwwwwwEawwwwwwwEawwwwwwwEawwwwwwwEawwwwwwwEawwwwwwwEawwwwwwwEawwwwwwwEawwwwwwwEawwwwwwwEawwwwwwwEawwwwwwwEawwwwwwwEawwwwwwwEawwwwwwwEawwwwwwwEawwwwwwwEawwwwwwwEawwwwwwwEawwwwwwwEawwwwwwwEawwwwwwwEawwwwwwwEawwwwwwwEawwwwwwwEawwwwwwwEawwwwwwwEawwwwwwwEawwwwwwwEawwwwwwwEawwwwwwwEawwwwwwwEawwwwwwwEawwwwwwwEawwwwwwwEawwwwwwwEawwwwwwwEawwwwwwwEawwwwwwwEawwwwwwwEawwwwwww'"
      ]
     },
     "execution_count": 65,
     "metadata": {},
     "output_type": "execute_result"
    }
   ],
   "source": [
    "\"Eawwwwwww\"*100"
   ]
  },
  {
   "cell_type": "code",
   "execution_count": 66,
   "id": "e26da9bb",
   "metadata": {},
   "outputs": [
    {
     "data": {
      "text/plain": [
       "25"
      ]
     },
     "execution_count": 66,
     "metadata": {},
     "output_type": "execute_result"
    }
   ],
   "source": [
    "len(a)"
   ]
  },
  {
   "cell_type": "code",
   "execution_count": 67,
   "id": "e445870f",
   "metadata": {},
   "outputs": [
    {
     "data": {
      "text/plain": [
       "'i am working with ineuron'"
      ]
     },
     "execution_count": 67,
     "metadata": {},
     "output_type": "execute_result"
    }
   ],
   "source": [
    "a"
   ]
  },
  {
   "cell_type": "code",
   "execution_count": 68,
   "id": "7f902a28",
   "metadata": {},
   "outputs": [
    {
     "data": {
      "text/plain": [
       "2"
      ]
     },
     "execution_count": 68,
     "metadata": {},
     "output_type": "execute_result"
    }
   ],
   "source": [
    "a.find('a')"
   ]
  },
  {
   "cell_type": "code",
   "execution_count": 70,
   "id": "94f1e3d0",
   "metadata": {},
   "outputs": [
    {
     "data": {
      "text/plain": [
       "-1"
      ]
     },
     "execution_count": 70,
     "metadata": {},
     "output_type": "execute_result"
    }
   ],
   "source": [
    "a.find('ia')"
   ]
  },
  {
   "cell_type": "code",
   "execution_count": 71,
   "id": "14eba319",
   "metadata": {},
   "outputs": [
    {
     "data": {
      "text/plain": [
       "2"
      ]
     },
     "execution_count": 71,
     "metadata": {},
     "output_type": "execute_result"
    }
   ],
   "source": [
    "a.find('am')"
   ]
  },
  {
   "cell_type": "code",
   "execution_count": 72,
   "id": "aefe7968",
   "metadata": {},
   "outputs": [
    {
     "data": {
      "text/plain": [
       "5"
      ]
     },
     "execution_count": 72,
     "metadata": {},
     "output_type": "execute_result"
    }
   ],
   "source": [
    "a.find(\"working\")"
   ]
  },
  {
   "cell_type": "code",
   "execution_count": 73,
   "id": "74ff0610",
   "metadata": {},
   "outputs": [
    {
     "data": {
      "text/plain": [
       "15"
      ]
     },
     "execution_count": 73,
     "metadata": {},
     "output_type": "execute_result"
    }
   ],
   "source": [
    "a.find(\"th\")"
   ]
  },
  {
   "cell_type": "code",
   "execution_count": 74,
   "id": "0fe75c32",
   "metadata": {},
   "outputs": [
    {
     "data": {
      "text/plain": [
       "20"
      ]
     },
     "execution_count": 74,
     "metadata": {},
     "output_type": "execute_result"
    }
   ],
   "source": [
    "a.find('eu')"
   ]
  },
  {
   "cell_type": "code",
   "execution_count": 75,
   "id": "01c1ef5e",
   "metadata": {},
   "outputs": [
    {
     "data": {
      "text/plain": [
       "-1"
      ]
     },
     "execution_count": 75,
     "metadata": {},
     "output_type": "execute_result"
    }
   ],
   "source": [
    "a.find('ru')"
   ]
  },
  {
   "cell_type": "code",
   "execution_count": 76,
   "id": "52fc8402",
   "metadata": {},
   "outputs": [
    {
     "data": {
      "text/plain": [
       "4"
      ]
     },
     "execution_count": 76,
     "metadata": {},
     "output_type": "execute_result"
    }
   ],
   "source": [
    "a.count('i')"
   ]
  },
  {
   "cell_type": "code",
   "execution_count": 77,
   "id": "8af54b1d",
   "metadata": {},
   "outputs": [
    {
     "data": {
      "text/plain": [
       "'i am working with ineuron'"
      ]
     },
     "execution_count": 77,
     "metadata": {},
     "output_type": "execute_result"
    }
   ],
   "source": [
    "a"
   ]
  },
  {
   "cell_type": "code",
   "execution_count": 78,
   "id": "0e4b2b78",
   "metadata": {},
   "outputs": [
    {
     "data": {
      "text/plain": [
       "2"
      ]
     },
     "execution_count": 78,
     "metadata": {},
     "output_type": "execute_result"
    }
   ],
   "source": [
    "a.count('o')"
   ]
  },
  {
   "cell_type": "code",
   "execution_count": 86,
   "id": "abb78afb",
   "metadata": {},
   "outputs": [
    {
     "data": {
      "text/plain": [
       "list"
      ]
     },
     "execution_count": 86,
     "metadata": {},
     "output_type": "execute_result"
    }
   ],
   "source": [
    "type(a.split())"
   ]
  },
  {
   "cell_type": "code",
   "execution_count": 81,
   "id": "9b6ad752",
   "metadata": {},
   "outputs": [],
   "source": [
    "l=a.split()"
   ]
  },
  {
   "cell_type": "code",
   "execution_count": 82,
   "id": "65335ea1",
   "metadata": {},
   "outputs": [
    {
     "data": {
      "text/plain": [
       "['i', 'am', 'working', 'with', 'ineuron']"
      ]
     },
     "execution_count": 82,
     "metadata": {},
     "output_type": "execute_result"
    }
   ],
   "source": [
    "l"
   ]
  },
  {
   "cell_type": "code",
   "execution_count": 83,
   "id": "fa142886",
   "metadata": {},
   "outputs": [
    {
     "data": {
      "text/plain": [
       "['i']"
      ]
     },
     "execution_count": 83,
     "metadata": {},
     "output_type": "execute_result"
    }
   ],
   "source": [
    "l[0:1]"
   ]
  },
  {
   "cell_type": "code",
   "execution_count": 84,
   "id": "055b677a",
   "metadata": {},
   "outputs": [
    {
     "data": {
      "text/plain": [
       "['i', 'am']"
      ]
     },
     "execution_count": 84,
     "metadata": {},
     "output_type": "execute_result"
    }
   ],
   "source": [
    "l[0:2]"
   ]
  },
  {
   "cell_type": "code",
   "execution_count": 85,
   "id": "8063e5a0",
   "metadata": {},
   "outputs": [
    {
     "data": {
      "text/plain": [
       "['i', 'am', 'working', 'with', 'ineuron']"
      ]
     },
     "execution_count": 85,
     "metadata": {},
     "output_type": "execute_result"
    }
   ],
   "source": [
    "l[0:5]"
   ]
  },
  {
   "cell_type": "code",
   "execution_count": 87,
   "id": "53df542a",
   "metadata": {},
   "outputs": [
    {
     "data": {
      "text/plain": [
       "['i', 'am', 'working', 'with', 'ineuron']"
      ]
     },
     "execution_count": 87,
     "metadata": {},
     "output_type": "execute_result"
    }
   ],
   "source": [
    "a.split()"
   ]
  },
  {
   "cell_type": "code",
   "execution_count": 90,
   "id": "57d7ad03",
   "metadata": {},
   "outputs": [
    {
     "data": {
      "text/plain": [
       "['i am ', 'rking with ineuron']"
      ]
     },
     "execution_count": 90,
     "metadata": {},
     "output_type": "execute_result"
    }
   ],
   "source": [
    "a.split('wo')"
   ]
  },
  {
   "cell_type": "code",
   "execution_count": 89,
   "id": "1fddd804",
   "metadata": {},
   "outputs": [
    {
     "data": {
      "text/plain": [
       "'i am working with ineuron'"
      ]
     },
     "execution_count": 89,
     "metadata": {},
     "output_type": "execute_result"
    }
   ],
   "source": [
    "a\n"
   ]
  },
  {
   "cell_type": "code",
   "execution_count": 91,
   "id": "b3affb28",
   "metadata": {},
   "outputs": [
    {
     "data": {
      "text/plain": [
       "'I AM WORKING WITH INEURON'"
      ]
     },
     "execution_count": 91,
     "metadata": {},
     "output_type": "execute_result"
    }
   ],
   "source": [
    "a.upper()"
   ]
  },
  {
   "cell_type": "code",
   "execution_count": 92,
   "id": "8d83e008",
   "metadata": {},
   "outputs": [
    {
     "data": {
      "text/plain": [
       "str"
      ]
     },
     "execution_count": 92,
     "metadata": {},
     "output_type": "execute_result"
    }
   ],
   "source": [
    "type(a.upper())"
   ]
  },
  {
   "cell_type": "code",
   "execution_count": 93,
   "id": "4b101270",
   "metadata": {},
   "outputs": [],
   "source": [
    "s=\"sArDaR\""
   ]
  },
  {
   "cell_type": "code",
   "execution_count": 94,
   "id": "abd91f69",
   "metadata": {},
   "outputs": [
    {
     "data": {
      "text/plain": [
       "'SaRdAr'"
      ]
     },
     "execution_count": 94,
     "metadata": {},
     "output_type": "execute_result"
    }
   ],
   "source": [
    "s.swapcase()"
   ]
  },
  {
   "cell_type": "code",
   "execution_count": 95,
   "id": "310207ff",
   "metadata": {},
   "outputs": [
    {
     "data": {
      "text/plain": [
       "'SARDAR'"
      ]
     },
     "execution_count": 95,
     "metadata": {},
     "output_type": "execute_result"
    }
   ],
   "source": [
    "s.upper()"
   ]
  },
  {
   "cell_type": "code",
   "execution_count": 96,
   "id": "b4152eed",
   "metadata": {},
   "outputs": [
    {
     "data": {
      "text/plain": [
       "'sArDaR'"
      ]
     },
     "execution_count": 96,
     "metadata": {},
     "output_type": "execute_result"
    }
   ],
   "source": [
    "s\n"
   ]
  },
  {
   "cell_type": "code",
   "execution_count": 97,
   "id": "e9fdfcca",
   "metadata": {},
   "outputs": [
    {
     "data": {
      "text/plain": [
       "'Sardar'"
      ]
     },
     "execution_count": 97,
     "metadata": {},
     "output_type": "execute_result"
    }
   ],
   "source": [
    "s.title()"
   ]
  },
  {
   "cell_type": "code",
   "execution_count": 98,
   "id": "e91e77fc",
   "metadata": {},
   "outputs": [
    {
     "data": {
      "text/plain": [
       "'Sardar'"
      ]
     },
     "execution_count": 98,
     "metadata": {},
     "output_type": "execute_result"
    }
   ],
   "source": [
    "s.capitalize()"
   ]
  },
  {
   "cell_type": "code",
   "execution_count": 99,
   "id": "f1905fea",
   "metadata": {},
   "outputs": [],
   "source": [
    "b='noman'\n",
    "c=\"ineuron\""
   ]
  },
  {
   "cell_type": "code",
   "execution_count": 100,
   "id": "7c633c3c",
   "metadata": {},
   "outputs": [
    {
     "data": {
      "text/plain": [
       "'inomannnomanenomanunomanrnomanonomann'"
      ]
     },
     "execution_count": 100,
     "metadata": {},
     "output_type": "execute_result"
    }
   ],
   "source": [
    "b.join(c)"
   ]
  },
  {
   "cell_type": "code",
   "execution_count": 101,
   "id": "ee1f9685",
   "metadata": {},
   "outputs": [
    {
     "data": {
      "text/plain": [
       "'n o m a n'"
      ]
     },
     "execution_count": 101,
     "metadata": {},
     "output_type": "execute_result"
    }
   ],
   "source": [
    "\" \".join(\"noman\")"
   ]
  },
  {
   "cell_type": "code",
   "execution_count": 102,
   "id": "33acc16d",
   "metadata": {},
   "outputs": [
    {
     "data": {
      "text/plain": [
       "'s     a     r     d     a     r'"
      ]
     },
     "execution_count": 102,
     "metadata": {},
     "output_type": "execute_result"
    }
   ],
   "source": [
    "\"     \".join(\"sardar\")"
   ]
  },
  {
   "cell_type": "code",
   "execution_count": 103,
   "id": "89778b0b",
   "metadata": {},
   "outputs": [
    {
     "data": {
      "text/plain": [
       "<reversed at 0x1ec95e50cd0>"
      ]
     },
     "execution_count": 103,
     "metadata": {},
     "output_type": "execute_result"
    }
   ],
   "source": [
    "reversed(\"sardar\")"
   ]
  },
  {
   "cell_type": "code",
   "execution_count": 106,
   "id": "43d29072",
   "metadata": {},
   "outputs": [
    {
     "name": "stdout",
     "output_type": "stream",
     "text": [
      "r\n",
      "a\n",
      "d\n",
      "r\n",
      "a\n",
      "s\n"
     ]
    }
   ],
   "source": [
    "for i in reversed(\"sardar\"):\n",
    "   print(i)"
   ]
  },
  {
   "cell_type": "code",
   "execution_count": 107,
   "id": "c839e276",
   "metadata": {},
   "outputs": [
    {
     "data": {
      "text/plain": [
       "'radras'"
      ]
     },
     "execution_count": 107,
     "metadata": {},
     "output_type": "execute_result"
    }
   ],
   "source": [
    "z=\"sardar\"\n",
    "z[::-1]"
   ]
  },
  {
   "cell_type": "code",
   "execution_count": 111,
   "id": "7d5cfc20",
   "metadata": {},
   "outputs": [],
   "source": [
    "s= \" sardar  \""
   ]
  },
  {
   "cell_type": "code",
   "execution_count": 112,
   "id": "77cdb479",
   "metadata": {},
   "outputs": [
    {
     "data": {
      "text/plain": [
       "' sardar'"
      ]
     },
     "execution_count": 112,
     "metadata": {},
     "output_type": "execute_result"
    }
   ],
   "source": [
    "s.rstrip()"
   ]
  },
  {
   "cell_type": "code",
   "execution_count": 114,
   "id": "34ed9769",
   "metadata": {},
   "outputs": [
    {
     "data": {
      "text/plain": [
       "'sardar  '"
      ]
     },
     "execution_count": 114,
     "metadata": {},
     "output_type": "execute_result"
    }
   ],
   "source": [
    "s.lstrip()"
   ]
  },
  {
   "cell_type": "code",
   "execution_count": 115,
   "id": "35286778",
   "metadata": {},
   "outputs": [
    {
     "data": {
      "text/plain": [
       "'sardar'"
      ]
     },
     "execution_count": 115,
     "metadata": {},
     "output_type": "execute_result"
    }
   ],
   "source": [
    "s.strip()"
   ]
  },
  {
   "cell_type": "code",
   "execution_count": 116,
   "id": "3bcad402",
   "metadata": {},
   "outputs": [],
   "source": [
    "s=\"      noman      \""
   ]
  },
  {
   "cell_type": "code",
   "execution_count": 117,
   "id": "9a4c40b2",
   "metadata": {},
   "outputs": [
    {
     "data": {
      "text/plain": [
       "'noman      '"
      ]
     },
     "execution_count": 117,
     "metadata": {},
     "output_type": "execute_result"
    }
   ],
   "source": [
    "s.lstrip()"
   ]
  },
  {
   "cell_type": "code",
   "execution_count": 118,
   "id": "4e0ac7af",
   "metadata": {},
   "outputs": [
    {
     "data": {
      "text/plain": [
       "'      noman'"
      ]
     },
     "execution_count": 118,
     "metadata": {},
     "output_type": "execute_result"
    }
   ],
   "source": [
    "s.rstrip()"
   ]
  },
  {
   "cell_type": "code",
   "execution_count": 119,
   "id": "3e8c20d0",
   "metadata": {},
   "outputs": [
    {
     "data": {
      "text/plain": [
       "'noman'"
      ]
     },
     "execution_count": 119,
     "metadata": {},
     "output_type": "execute_result"
    }
   ],
   "source": [
    "s.strip()"
   ]
  },
  {
   "cell_type": "code",
   "execution_count": 120,
   "id": "ddb8d365",
   "metadata": {},
   "outputs": [],
   "source": [
    "s=\"sardar\""
   ]
  },
  {
   "cell_type": "code",
   "execution_count": 121,
   "id": "f3218d91",
   "metadata": {},
   "outputs": [
    {
     "data": {
      "text/plain": [
       "'surdur'"
      ]
     },
     "execution_count": 121,
     "metadata": {},
     "output_type": "execute_result"
    }
   ],
   "source": [
    "s.replace(\"a\",\"u\")"
   ]
  },
  {
   "cell_type": "code",
   "execution_count": 124,
   "id": "942195a4",
   "metadata": {},
   "outputs": [
    {
     "data": {
      "text/plain": [
       "'khan'"
      ]
     },
     "execution_count": 124,
     "metadata": {},
     "output_type": "execute_result"
    }
   ],
   "source": [
    "s.replace(\"sardar\",\"khan\")"
   ]
  },
  {
   "cell_type": "code",
   "execution_count": 125,
   "id": "01de6c14",
   "metadata": {},
   "outputs": [
    {
     "data": {
      "text/plain": [
       "'sardar'"
      ]
     },
     "execution_count": 125,
     "metadata": {},
     "output_type": "execute_result"
    }
   ],
   "source": [
    "s"
   ]
  },
  {
   "cell_type": "code",
   "execution_count": 126,
   "id": "09523140",
   "metadata": {},
   "outputs": [
    {
     "data": {
      "text/plain": [
       "'sardar  khan'"
      ]
     },
     "execution_count": 126,
     "metadata": {},
     "output_type": "execute_result"
    }
   ],
   "source": [
    "\"sardar\\tkhan\".expandtabsandtabs()"
   ]
  },
  {
   "cell_type": "code",
   "execution_count": 127,
   "id": "b6f5f17d",
   "metadata": {},
   "outputs": [],
   "source": [
    "s=\"sardar\""
   ]
  },
  {
   "cell_type": "code",
   "execution_count": 133,
   "id": "41284a5a",
   "metadata": {},
   "outputs": [
    {
     "data": {
      "text/plain": [
       "'ssssssssssssssssssardarsssssssssssssssss'"
      ]
     },
     "execution_count": 133,
     "metadata": {},
     "output_type": "execute_result"
    }
   ],
   "source": [
    "s.center(40,\"s\")"
   ]
  },
  {
   "cell_type": "code",
   "execution_count": 137,
   "id": "74c4f2c7",
   "metadata": {},
   "outputs": [],
   "source": [
    "s=\"sardar\""
   ]
  },
  {
   "cell_type": "code",
   "execution_count": 138,
   "id": "2a9e9dd3",
   "metadata": {},
   "outputs": [
    {
     "data": {
      "text/plain": [
       "False"
      ]
     },
     "execution_count": 138,
     "metadata": {},
     "output_type": "execute_result"
    }
   ],
   "source": [
    "s.isupper()"
   ]
  },
  {
   "cell_type": "code",
   "execution_count": 139,
   "id": "94655977",
   "metadata": {},
   "outputs": [
    {
     "data": {
      "text/plain": [
       "True"
      ]
     },
     "execution_count": 139,
     "metadata": {},
     "output_type": "execute_result"
    }
   ],
   "source": [
    "s.islower()"
   ]
  },
  {
   "cell_type": "code",
   "execution_count": 140,
   "id": "d59dd381",
   "metadata": {},
   "outputs": [
    {
     "data": {
      "text/plain": [
       "True"
      ]
     },
     "execution_count": 140,
     "metadata": {},
     "output_type": "execute_result"
    }
   ],
   "source": [
    "s.isalpha()"
   ]
  },
  {
   "cell_type": "code",
   "execution_count": 141,
   "id": "a1ece7c6",
   "metadata": {},
   "outputs": [],
   "source": [
    "s=\"4sardar\""
   ]
  },
  {
   "cell_type": "code",
   "execution_count": 142,
   "id": "6495c3f5",
   "metadata": {},
   "outputs": [
    {
     "data": {
      "text/plain": [
       "False"
      ]
     },
     "execution_count": 142,
     "metadata": {},
     "output_type": "execute_result"
    }
   ],
   "source": [
    "s.isalpha()"
   ]
  },
  {
   "cell_type": "code",
   "execution_count": 144,
   "id": "753cb5f6",
   "metadata": {},
   "outputs": [],
   "source": [
    "s=\"          \""
   ]
  },
  {
   "cell_type": "code",
   "execution_count": 145,
   "id": "996b8a30",
   "metadata": {},
   "outputs": [
    {
     "data": {
      "text/plain": [
       "False"
      ]
     },
     "execution_count": 145,
     "metadata": {},
     "output_type": "execute_result"
    }
   ],
   "source": [
    "s.isspace()"
   ]
  },
  {
   "cell_type": "code",
   "execution_count": 146,
   "id": "97104e68",
   "metadata": {},
   "outputs": [
    {
     "ename": "SyntaxError",
     "evalue": "invalid syntax (Temp/ipykernel_9620/221118082.py, line 1)",
     "output_type": "error",
     "traceback": [
      "\u001b[1;36m  File \u001b[1;32m\"C:\\Users\\SARDAR\\AppData\\Local\\Temp/ipykernel_9620/221118082.py\"\u001b[1;36m, line \u001b[1;32m1\u001b[0m\n\u001b[1;33m    s.isspace(|)\u001b[0m\n\u001b[1;37m              ^\u001b[0m\n\u001b[1;31mSyntaxError\u001b[0m\u001b[1;31m:\u001b[0m invalid syntax\n"
     ]
    }
   ],
   "source": [
    "s.isspace(|)"
   ]
  },
  {
   "cell_type": "code",
   "execution_count": 147,
   "id": "f5b87d93",
   "metadata": {},
   "outputs": [],
   "source": [
    "s=\"sardar\""
   ]
  },
  {
   "cell_type": "code",
   "execution_count": 148,
   "id": "822b9335",
   "metadata": {},
   "outputs": [
    {
     "data": {
      "text/plain": [
       "False"
      ]
     },
     "execution_count": 148,
     "metadata": {},
     "output_type": "execute_result"
    }
   ],
   "source": [
    "s.isdigit()"
   ]
  },
  {
   "cell_type": "code",
   "execution_count": 149,
   "id": "081893f8",
   "metadata": {},
   "outputs": [],
   "source": [
    "s=\"45254\""
   ]
  },
  {
   "cell_type": "code",
   "execution_count": 150,
   "id": "36f09b6d",
   "metadata": {},
   "outputs": [
    {
     "data": {
      "text/plain": [
       "True"
      ]
     },
     "execution_count": 150,
     "metadata": {},
     "output_type": "execute_result"
    }
   ],
   "source": [
    "s.isdigit()"
   ]
  },
  {
   "cell_type": "code",
   "execution_count": 151,
   "id": "62e511fe",
   "metadata": {},
   "outputs": [],
   "source": [
    "s=\"sardar\""
   ]
  },
  {
   "cell_type": "code",
   "execution_count": 153,
   "id": "272ee8ba",
   "metadata": {},
   "outputs": [
    {
     "data": {
      "text/plain": [
       "True"
      ]
     },
     "execution_count": 153,
     "metadata": {},
     "output_type": "execute_result"
    }
   ],
   "source": [
    "s.endswith('r')"
   ]
  },
  {
   "cell_type": "code",
   "execution_count": 154,
   "id": "543ff3ba",
   "metadata": {},
   "outputs": [
    {
     "data": {
      "text/plain": [
       "False"
      ]
     },
     "execution_count": 154,
     "metadata": {},
     "output_type": "execute_result"
    }
   ],
   "source": [
    "s.endswith('d')"
   ]
  },
  {
   "cell_type": "code",
   "execution_count": 156,
   "id": "c89eef66",
   "metadata": {},
   "outputs": [
    {
     "data": {
      "text/plain": [
       "False"
      ]
     },
     "execution_count": 156,
     "metadata": {},
     "output_type": "execute_result"
    }
   ],
   "source": [
    "s.startswith(\"d\")"
   ]
  },
  {
   "cell_type": "code",
   "execution_count": 157,
   "id": "27face72",
   "metadata": {},
   "outputs": [
    {
     "data": {
      "text/plain": [
       "True"
      ]
     },
     "execution_count": 157,
     "metadata": {},
     "output_type": "execute_result"
    }
   ],
   "source": [
    "s.startswith(\"s\")"
   ]
  },
  {
   "cell_type": "code",
   "execution_count": 158,
   "id": "54f7ad18",
   "metadata": {},
   "outputs": [
    {
     "data": {
      "text/plain": [
       "False"
      ]
     },
     "execution_count": 158,
     "metadata": {},
     "output_type": "execute_result"
    }
   ],
   "source": [
    "s.istitle()"
   ]
  },
  {
   "cell_type": "code",
   "execution_count": 159,
   "id": "3d518fe3",
   "metadata": {},
   "outputs": [],
   "source": [
    "s=\"Sardar\""
   ]
  },
  {
   "cell_type": "code",
   "execution_count": 160,
   "id": "c6e01134",
   "metadata": {},
   "outputs": [
    {
     "data": {
      "text/plain": [
       "True"
      ]
     },
     "execution_count": 160,
     "metadata": {},
     "output_type": "execute_result"
    }
   ],
   "source": [
    "s.istitle()"
   ]
  },
  {
   "cell_type": "code",
   "execution_count": 163,
   "id": "f4119c4c",
   "metadata": {},
   "outputs": [
    {
     "data": {
      "text/plain": [
       "b'Sardar'"
      ]
     },
     "execution_count": 163,
     "metadata": {},
     "output_type": "execute_result"
    }
   ],
   "source": [
    "s.encode()"
   ]
  },
  {
   "cell_type": "markdown",
   "id": "494fdf7c",
   "metadata": {},
   "source": [
    "#  List\n"
   ]
  },
  {
   "cell_type": "code",
   "execution_count": 164,
   "id": "8ff4ab86",
   "metadata": {},
   "outputs": [],
   "source": [
    "l=[\"Sardar\",\"khan\",242654,4+6j,True,2562.2]"
   ]
  },
  {
   "cell_type": "code",
   "execution_count": 165,
   "id": "e0757bb3",
   "metadata": {},
   "outputs": [
    {
     "data": {
      "text/plain": [
       "['Sardar', 'khan', 242654, (4+6j), True, 2562.2]"
      ]
     },
     "execution_count": 165,
     "metadata": {},
     "output_type": "execute_result"
    }
   ],
   "source": [
    "l"
   ]
  },
  {
   "cell_type": "code",
   "execution_count": 166,
   "id": "9097ce59",
   "metadata": {},
   "outputs": [
    {
     "data": {
      "text/plain": [
       "list"
      ]
     },
     "execution_count": 166,
     "metadata": {},
     "output_type": "execute_result"
    }
   ],
   "source": [
    "type(l)"
   ]
  },
  {
   "cell_type": "code",
   "execution_count": 167,
   "id": "eef3a26b",
   "metadata": {},
   "outputs": [
    {
     "data": {
      "text/plain": [
       "'Sardar'"
      ]
     },
     "execution_count": 167,
     "metadata": {},
     "output_type": "execute_result"
    }
   ],
   "source": [
    "l[0]"
   ]
  },
  {
   "cell_type": "code",
   "execution_count": 168,
   "id": "e77b9f3c",
   "metadata": {},
   "outputs": [
    {
     "data": {
      "text/plain": [
       "2562.2"
      ]
     },
     "execution_count": 168,
     "metadata": {},
     "output_type": "execute_result"
    }
   ],
   "source": [
    "l[-1]"
   ]
  },
  {
   "cell_type": "code",
   "execution_count": 169,
   "id": "6e2e82d4",
   "metadata": {},
   "outputs": [
    {
     "data": {
      "text/plain": [
       "True"
      ]
     },
     "execution_count": 169,
     "metadata": {},
     "output_type": "execute_result"
    }
   ],
   "source": [
    "l[-2]"
   ]
  },
  {
   "cell_type": "code",
   "execution_count": 170,
   "id": "0b27fae8",
   "metadata": {},
   "outputs": [
    {
     "data": {
      "text/plain": [
       "'khan'"
      ]
     },
     "execution_count": 170,
     "metadata": {},
     "output_type": "execute_result"
    }
   ],
   "source": [
    "l[-5]"
   ]
  },
  {
   "cell_type": "code",
   "execution_count": 171,
   "id": "0186de21",
   "metadata": {},
   "outputs": [
    {
     "data": {
      "text/plain": [
       "['Sardar', 'khan']"
      ]
     },
     "execution_count": 171,
     "metadata": {},
     "output_type": "execute_result"
    }
   ],
   "source": [
    "l[0:2]"
   ]
  },
  {
   "cell_type": "code",
   "execution_count": 172,
   "id": "bcbe01d2",
   "metadata": {},
   "outputs": [
    {
     "data": {
      "text/plain": [
       "['Sardar', 'khan', 242654, (4+6j), True]"
      ]
     },
     "execution_count": 172,
     "metadata": {},
     "output_type": "execute_result"
    }
   ],
   "source": [
    "l[0:5]"
   ]
  },
  {
   "cell_type": "code",
   "execution_count": 173,
   "id": "450ac60a",
   "metadata": {},
   "outputs": [
    {
     "data": {
      "text/plain": [
       "[True]"
      ]
     },
     "execution_count": 173,
     "metadata": {},
     "output_type": "execute_result"
    }
   ],
   "source": [
    "l[-2:-1]"
   ]
  },
  {
   "cell_type": "code",
   "execution_count": 174,
   "id": "37f7b293",
   "metadata": {},
   "outputs": [
    {
     "data": {
      "text/plain": [
       "[2562.2, True, (4+6j), 242654, 'khan', 'Sardar']"
      ]
     },
     "execution_count": 174,
     "metadata": {},
     "output_type": "execute_result"
    }
   ],
   "source": [
    "l[::-1]"
   ]
  },
  {
   "cell_type": "code",
   "execution_count": 175,
   "id": "600df5e7",
   "metadata": {},
   "outputs": [
    {
     "data": {
      "text/plain": [
       "['Sardar', 'khan', 242654, (4+6j), True, 2562.2]"
      ]
     },
     "execution_count": 175,
     "metadata": {},
     "output_type": "execute_result"
    }
   ],
   "source": [
    "l"
   ]
  },
  {
   "cell_type": "code",
   "execution_count": 176,
   "id": "db847f9d",
   "metadata": {},
   "outputs": [
    {
     "data": {
      "text/plain": [
       "[2562.2]"
      ]
     },
     "execution_count": 176,
     "metadata": {},
     "output_type": "execute_result"
    }
   ],
   "source": [
    "l[-1:6]"
   ]
  },
  {
   "cell_type": "code",
   "execution_count": 177,
   "id": "cee94584",
   "metadata": {},
   "outputs": [
    {
     "data": {
      "text/plain": [
       "type[4]"
      ]
     },
     "execution_count": 177,
     "metadata": {},
     "output_type": "execute_result"
    }
   ],
   "source": [
    "type[4]"
   ]
  },
  {
   "cell_type": "code",
   "execution_count": 178,
   "id": "0409f570",
   "metadata": {},
   "outputs": [
    {
     "data": {
      "text/plain": [
       "True"
      ]
     },
     "execution_count": 178,
     "metadata": {},
     "output_type": "execute_result"
    }
   ],
   "source": [
    "l[4]"
   ]
  },
  {
   "cell_type": "code",
   "execution_count": 179,
   "id": "c7eb674f",
   "metadata": {},
   "outputs": [
    {
     "data": {
      "text/plain": [
       "bool"
      ]
     },
     "execution_count": 179,
     "metadata": {},
     "output_type": "execute_result"
    }
   ],
   "source": [
    "type(l[4])"
   ]
  },
  {
   "cell_type": "code",
   "execution_count": 180,
   "id": "aab52809",
   "metadata": {},
   "outputs": [
    {
     "data": {
      "text/plain": [
       "'a'"
      ]
     },
     "execution_count": 180,
     "metadata": {},
     "output_type": "execute_result"
    }
   ],
   "source": [
    "l[0][1]"
   ]
  },
  {
   "cell_type": "code",
   "execution_count": 181,
   "id": "69d94968",
   "metadata": {},
   "outputs": [
    {
     "data": {
      "text/plain": [
       "(4+6j)"
      ]
     },
     "execution_count": 181,
     "metadata": {},
     "output_type": "execute_result"
    }
   ],
   "source": [
    "l[3]"
   ]
  },
  {
   "cell_type": "code",
   "execution_count": 183,
   "id": "7a27dfeb",
   "metadata": {},
   "outputs": [
    {
     "data": {
      "text/plain": [
       "6.0"
      ]
     },
     "execution_count": 183,
     "metadata": {},
     "output_type": "execute_result"
    }
   ],
   "source": [
    "l[3].imag"
   ]
  },
  {
   "cell_type": "code",
   "execution_count": 184,
   "id": "dedd275f",
   "metadata": {},
   "outputs": [
    {
     "data": {
      "text/plain": [
       "4.0"
      ]
     },
     "execution_count": 184,
     "metadata": {},
     "output_type": "execute_result"
    }
   ],
   "source": [
    "l[3].real"
   ]
  },
  {
   "cell_type": "code",
   "execution_count": 185,
   "id": "a4fd4c84",
   "metadata": {},
   "outputs": [
    {
     "data": {
      "text/plain": [
       "['Sardar', 'khan', 242654, (4+6j), True, 2562.2]"
      ]
     },
     "execution_count": 185,
     "metadata": {},
     "output_type": "execute_result"
    }
   ],
   "source": [
    "l"
   ]
  },
  {
   "cell_type": "code",
   "execution_count": 189,
   "id": "a370f8eb",
   "metadata": {},
   "outputs": [],
   "source": [
    "l1=['NOMAN','KHAN',46634]\n",
    "l2=['DSJBD','DHVD',674.3]"
   ]
  },
  {
   "cell_type": "code",
   "execution_count": 187,
   "id": "2fb69da2",
   "metadata": {},
   "outputs": [
    {
     "ename": "NameError",
     "evalue": "name 'L1' is not defined",
     "output_type": "error",
     "traceback": [
      "\u001b[1;31m---------------------------------------------------------------------------\u001b[0m",
      "\u001b[1;31mNameError\u001b[0m                                 Traceback (most recent call last)",
      "\u001b[1;32m~\\AppData\\Local\\Temp/ipykernel_9620/4277534328.py\u001b[0m in \u001b[0;36m<module>\u001b[1;34m\u001b[0m\n\u001b[1;32m----> 1\u001b[1;33m \u001b[0mL1\u001b[0m\u001b[1;33m+\u001b[0m\u001b[0mL2\u001b[0m\u001b[1;33m\u001b[0m\u001b[1;33m\u001b[0m\u001b[0m\n\u001b[0m",
      "\u001b[1;31mNameError\u001b[0m: name 'L1' is not defined"
     ]
    }
   ],
   "source": [
    "L1+L2"
   ]
  },
  {
   "cell_type": "code",
   "execution_count": 190,
   "id": "de8da4f6",
   "metadata": {},
   "outputs": [
    {
     "data": {
      "text/plain": [
       "['NOMAN', 'KHAN', 46634, 'DSJBD', 'DHVD', 674.3]"
      ]
     },
     "execution_count": 190,
     "metadata": {},
     "output_type": "execute_result"
    }
   ],
   "source": [
    "l1+l2"
   ]
  },
  {
   "cell_type": "code",
   "execution_count": 192,
   "id": "df0739aa",
   "metadata": {},
   "outputs": [
    {
     "ename": "TypeError",
     "evalue": "can only concatenate list (not \"str\") to list",
     "output_type": "error",
     "traceback": [
      "\u001b[1;31m---------------------------------------------------------------------------\u001b[0m",
      "\u001b[1;31mTypeError\u001b[0m                                 Traceback (most recent call last)",
      "\u001b[1;32m~\\AppData\\Local\\Temp/ipykernel_9620/1751832176.py\u001b[0m in \u001b[0;36m<module>\u001b[1;34m\u001b[0m\n\u001b[1;32m----> 1\u001b[1;33m \u001b[0ml1\u001b[0m\u001b[1;33m+\u001b[0m\u001b[1;34m\"saradr\"\u001b[0m\u001b[1;33m\u001b[0m\u001b[1;33m\u001b[0m\u001b[0m\n\u001b[0m",
      "\u001b[1;31mTypeError\u001b[0m: can only concatenate list (not \"str\") to list"
     ]
    }
   ],
   "source": [
    "l1+\"saradr\""
   ]
  },
  {
   "cell_type": "code",
   "execution_count": 193,
   "id": "75bdddfb",
   "metadata": {},
   "outputs": [
    {
     "data": {
      "text/plain": [
       "['NOMAN', 'KHAN', 46634, 'sardar']"
      ]
     },
     "execution_count": 193,
     "metadata": {},
     "output_type": "execute_result"
    }
   ],
   "source": [
    "l1+['sardar']"
   ]
  },
  {
   "cell_type": "code",
   "execution_count": 194,
   "id": "1c653725",
   "metadata": {},
   "outputs": [
    {
     "data": {
      "text/plain": [
       "['NOMAN', 'KHAN', 46634, 'DSJBD', 'DHVD', 674.3, 'sardar']"
      ]
     },
     "execution_count": 194,
     "metadata": {},
     "output_type": "execute_result"
    }
   ],
   "source": [
    "l1+l2+['sardar']"
   ]
  },
  {
   "cell_type": "code",
   "execution_count": 195,
   "id": "db84fe3e",
   "metadata": {},
   "outputs": [
    {
     "data": {
      "text/plain": [
       "['NOMAN',\n",
       " 'KHAN',\n",
       " 46634,\n",
       " 'NOMAN',\n",
       " 'KHAN',\n",
       " 46634,\n",
       " 'NOMAN',\n",
       " 'KHAN',\n",
       " 46634,\n",
       " 'NOMAN',\n",
       " 'KHAN',\n",
       " 46634]"
      ]
     },
     "execution_count": 195,
     "metadata": {},
     "output_type": "execute_result"
    }
   ],
   "source": [
    "l1*4"
   ]
  },
  {
   "cell_type": "code",
   "execution_count": 208,
   "id": "b130f3f9",
   "metadata": {},
   "outputs": [],
   "source": [
    "l1[0]=5646467"
   ]
  },
  {
   "cell_type": "code",
   "execution_count": 209,
   "id": "69639797",
   "metadata": {},
   "outputs": [
    {
     "data": {
      "text/plain": [
       "[5646467, 'noman', 46634]"
      ]
     },
     "execution_count": 209,
     "metadata": {},
     "output_type": "execute_result"
    }
   ],
   "source": [
    "l1"
   ]
  },
  {
   "cell_type": "code",
   "execution_count": 205,
   "id": "a438646b",
   "metadata": {},
   "outputs": [
    {
     "data": {
      "text/plain": [
       "'KHAN'"
      ]
     },
     "execution_count": 205,
     "metadata": {},
     "output_type": "execute_result"
    }
   ],
   "source": [
    "l1[1]"
   ]
  },
  {
   "cell_type": "code",
   "execution_count": 206,
   "id": "e0253c31",
   "metadata": {},
   "outputs": [],
   "source": [
    "l1[1]=\"noman\""
   ]
  },
  {
   "cell_type": "code",
   "execution_count": 207,
   "id": "4bb8f267",
   "metadata": {},
   "outputs": [
    {
     "data": {
      "text/plain": [
       "['wdyufydfsdsdgusgdusg', 'noman', 46634]"
      ]
     },
     "execution_count": 207,
     "metadata": {},
     "output_type": "execute_result"
    }
   ],
   "source": [
    "l1"
   ]
  },
  {
   "cell_type": "code",
   "execution_count": 210,
   "id": "0950c971",
   "metadata": {},
   "outputs": [
    {
     "data": {
      "text/plain": [
       "[5646467, 'noman', 46634]"
      ]
     },
     "execution_count": 210,
     "metadata": {},
     "output_type": "execute_result"
    }
   ],
   "source": [
    "l1\n"
   ]
  },
  {
   "cell_type": "code",
   "execution_count": 211,
   "id": "f826c10c",
   "metadata": {},
   "outputs": [
    {
     "data": {
      "text/plain": [
       "3"
      ]
     },
     "execution_count": 211,
     "metadata": {},
     "output_type": "execute_result"
    }
   ],
   "source": [
    "len(l1)"
   ]
  },
  {
   "cell_type": "code",
   "execution_count": 212,
   "id": "61283944",
   "metadata": {},
   "outputs": [
    {
     "data": {
      "text/plain": [
       "True"
      ]
     },
     "execution_count": 212,
     "metadata": {},
     "output_type": "execute_result"
    }
   ],
   "source": [
    "\"noman\" in l1"
   ]
  },
  {
   "cell_type": "code",
   "execution_count": 213,
   "id": "93709c45",
   "metadata": {},
   "outputs": [
    {
     "data": {
      "text/plain": [
       "False"
      ]
     },
     "execution_count": 213,
     "metadata": {},
     "output_type": "execute_result"
    }
   ],
   "source": [
    "23323 in l1"
   ]
  },
  {
   "cell_type": "code",
   "execution_count": 214,
   "id": "476dd7fd",
   "metadata": {},
   "outputs": [
    {
     "data": {
      "text/plain": [
       "True"
      ]
     },
     "execution_count": 214,
     "metadata": {},
     "output_type": "execute_result"
    }
   ],
   "source": [
    "46634 in l1\n"
   ]
  },
  {
   "cell_type": "code",
   "execution_count": 215,
   "id": "68d60efc",
   "metadata": {},
   "outputs": [
    {
     "data": {
      "text/plain": [
       "['DSJBD', 'DHVD', 674.3]"
      ]
     },
     "execution_count": 215,
     "metadata": {},
     "output_type": "execute_result"
    }
   ],
   "source": [
    "l2\n"
   ]
  },
  {
   "cell_type": "code",
   "execution_count": 216,
   "id": "054e7f26",
   "metadata": {},
   "outputs": [],
   "source": [
    "l2.append(\"noman\")"
   ]
  },
  {
   "cell_type": "code",
   "execution_count": 217,
   "id": "403c47c3",
   "metadata": {},
   "outputs": [
    {
     "data": {
      "text/plain": [
       "['DSJBD', 'DHVD', 674.3, 'noman']"
      ]
     },
     "execution_count": 217,
     "metadata": {},
     "output_type": "execute_result"
    }
   ],
   "source": [
    "l2"
   ]
  },
  {
   "cell_type": "code",
   "execution_count": 219,
   "id": "3fb51e3c",
   "metadata": {},
   "outputs": [
    {
     "data": {
      "text/plain": [
       "'noman'"
      ]
     },
     "execution_count": 219,
     "metadata": {},
     "output_type": "execute_result"
    }
   ],
   "source": [
    "l2.pop()"
   ]
  },
  {
   "cell_type": "code",
   "execution_count": 220,
   "id": "2ab0ccec",
   "metadata": {},
   "outputs": [
    {
     "data": {
      "text/plain": [
       "674.3"
      ]
     },
     "execution_count": 220,
     "metadata": {},
     "output_type": "execute_result"
    }
   ],
   "source": [
    "l2.pop()"
   ]
  },
  {
   "cell_type": "code",
   "execution_count": 221,
   "id": "d05b5d35",
   "metadata": {},
   "outputs": [
    {
     "data": {
      "text/plain": [
       "['DSJBD', 'DHVD']"
      ]
     },
     "execution_count": 221,
     "metadata": {},
     "output_type": "execute_result"
    }
   ],
   "source": [
    "l2"
   ]
  },
  {
   "cell_type": "code",
   "execution_count": 222,
   "id": "76d7dfeb",
   "metadata": {},
   "outputs": [
    {
     "ename": "TypeError",
     "evalue": "'list' object is not callable",
     "output_type": "error",
     "traceback": [
      "\u001b[1;31m---------------------------------------------------------------------------\u001b[0m",
      "\u001b[1;31mTypeError\u001b[0m                                 Traceback (most recent call last)",
      "\u001b[1;32m~\\AppData\\Local\\Temp/ipykernel_9620/2704375777.py\u001b[0m in \u001b[0;36m<module>\u001b[1;34m\u001b[0m\n\u001b[1;32m----> 1\u001b[1;33m \u001b[0ml2\u001b[0m\u001b[1;33m(\u001b[0m\u001b[1;36m1\u001b[0m\u001b[1;33m)\u001b[0m\u001b[1;33m\u001b[0m\u001b[1;33m\u001b[0m\u001b[0m\n\u001b[0m",
      "\u001b[1;31mTypeError\u001b[0m: 'list' object is not callable"
     ]
    }
   ],
   "source": [
    "l2(1)"
   ]
  },
  {
   "cell_type": "code",
   "execution_count": 223,
   "id": "edc5f281",
   "metadata": {},
   "outputs": [
    {
     "data": {
      "text/plain": [
       "'DHVD'"
      ]
     },
     "execution_count": 223,
     "metadata": {},
     "output_type": "execute_result"
    }
   ],
   "source": [
    "l2.pop(1)"
   ]
  },
  {
   "cell_type": "code",
   "execution_count": 224,
   "id": "fd8c9d3d",
   "metadata": {},
   "outputs": [
    {
     "data": {
      "text/plain": [
       "['DSJBD']"
      ]
     },
     "execution_count": 224,
     "metadata": {},
     "output_type": "execute_result"
    }
   ],
   "source": [
    "l2\n"
   ]
  },
  {
   "cell_type": "code",
   "execution_count": 225,
   "id": "02757649",
   "metadata": {},
   "outputs": [],
   "source": [
    "l2.append(\"noman\")"
   ]
  },
  {
   "cell_type": "code",
   "execution_count": 226,
   "id": "e788b7ee",
   "metadata": {},
   "outputs": [],
   "source": [
    "l2.append(\"khan\")"
   ]
  },
  {
   "cell_type": "code",
   "execution_count": 227,
   "id": "2412cfe9",
   "metadata": {},
   "outputs": [
    {
     "data": {
      "text/plain": [
       "['DSJBD', 'noman', 'khan']"
      ]
     },
     "execution_count": 227,
     "metadata": {},
     "output_type": "execute_result"
    }
   ],
   "source": [
    "l2"
   ]
  },
  {
   "cell_type": "code",
   "execution_count": 228,
   "id": "c7fa5617",
   "metadata": {},
   "outputs": [],
   "source": [
    "l2.append(6226)"
   ]
  },
  {
   "cell_type": "code",
   "execution_count": 229,
   "id": "1ee7d049",
   "metadata": {},
   "outputs": [],
   "source": [
    "l2.insert(1,\"gehghsghd\")"
   ]
  },
  {
   "cell_type": "code",
   "execution_count": 230,
   "id": "f3c16c32",
   "metadata": {},
   "outputs": [
    {
     "data": {
      "text/plain": [
       "['DSJBD', 'gehghsghd', 'noman', 'khan', 6226]"
      ]
     },
     "execution_count": 230,
     "metadata": {},
     "output_type": "execute_result"
    }
   ],
   "source": [
    "l2"
   ]
  },
  {
   "cell_type": "code",
   "execution_count": 231,
   "id": "b620448a",
   "metadata": {},
   "outputs": [],
   "source": [
    "l2.insert(3,63.3)"
   ]
  },
  {
   "cell_type": "code",
   "execution_count": 232,
   "id": "0a975147",
   "metadata": {},
   "outputs": [
    {
     "data": {
      "text/plain": [
       "['DSJBD', 'gehghsghd', 'noman', 63.3, 'khan', 6226]"
      ]
     },
     "execution_count": 232,
     "metadata": {},
     "output_type": "execute_result"
    }
   ],
   "source": [
    "l2"
   ]
  },
  {
   "cell_type": "code",
   "execution_count": 233,
   "id": "a21990b0",
   "metadata": {},
   "outputs": [],
   "source": [
    "l2.insert(4,[232,3232,32323,23,23])"
   ]
  },
  {
   "cell_type": "code",
   "execution_count": 234,
   "id": "f756feff",
   "metadata": {},
   "outputs": [
    {
     "data": {
      "text/plain": [
       "['DSJBD', 'gehghsghd', 'noman', 63.3, [232, 3232, 32323, 23, 23], 'khan', 6226]"
      ]
     },
     "execution_count": 234,
     "metadata": {},
     "output_type": "execute_result"
    }
   ],
   "source": [
    "l2"
   ]
  },
  {
   "cell_type": "code",
   "execution_count": 235,
   "id": "4bbab774",
   "metadata": {},
   "outputs": [
    {
     "data": {
      "text/plain": [
       "6226"
      ]
     },
     "execution_count": 235,
     "metadata": {},
     "output_type": "execute_result"
    }
   ],
   "source": [
    "l2.pop()"
   ]
  },
  {
   "cell_type": "code",
   "execution_count": 236,
   "id": "7c877839",
   "metadata": {},
   "outputs": [
    {
     "data": {
      "text/plain": [
       "['khan', [232, 3232, 32323, 23, 23], 63.3, 'noman', 'gehghsghd', 'DSJBD']"
      ]
     },
     "execution_count": 236,
     "metadata": {},
     "output_type": "execute_result"
    }
   ],
   "source": [
    "l2[::-1]"
   ]
  },
  {
   "cell_type": "code",
   "execution_count": 237,
   "id": "1d5cd12e",
   "metadata": {},
   "outputs": [],
   "source": [
    "l2.reverse()"
   ]
  },
  {
   "cell_type": "code",
   "execution_count": 238,
   "id": "559984b4",
   "metadata": {},
   "outputs": [
    {
     "data": {
      "text/plain": [
       "['khan', [232, 3232, 32323, 23, 23], 63.3, 'noman', 'gehghsghd', 'DSJBD']"
      ]
     },
     "execution_count": 238,
     "metadata": {},
     "output_type": "execute_result"
    }
   ],
   "source": [
    "l2\n"
   ]
  },
  {
   "cell_type": "code",
   "execution_count": 239,
   "id": "0aeb3157",
   "metadata": {},
   "outputs": [
    {
     "data": {
      "text/plain": [
       "[232, 3232, 32323, 23, 23]"
      ]
     },
     "execution_count": 239,
     "metadata": {},
     "output_type": "execute_result"
    }
   ],
   "source": [
    "l2[1]"
   ]
  },
  {
   "cell_type": "code",
   "execution_count": 240,
   "id": "030d345b",
   "metadata": {},
   "outputs": [
    {
     "data": {
      "text/plain": [
       "23"
      ]
     },
     "execution_count": 240,
     "metadata": {},
     "output_type": "execute_result"
    }
   ],
   "source": [
    "l2[1][3]"
   ]
  },
  {
   "cell_type": "code",
   "execution_count": 241,
   "id": "de89c5f1",
   "metadata": {},
   "outputs": [
    {
     "data": {
      "text/plain": [
       "['khan', [232, 3232, 32323, 23, 23], 63.3, 'noman', 'gehghsghd', 'DSJBD']"
      ]
     },
     "execution_count": 241,
     "metadata": {},
     "output_type": "execute_result"
    }
   ],
   "source": [
    "l2"
   ]
  },
  {
   "cell_type": "code",
   "execution_count": 242,
   "id": "dd4af6eb",
   "metadata": {},
   "outputs": [
    {
     "ename": "TypeError",
     "evalue": "list.count() takes exactly one argument (0 given)",
     "output_type": "error",
     "traceback": [
      "\u001b[1;31m---------------------------------------------------------------------------\u001b[0m",
      "\u001b[1;31mTypeError\u001b[0m                                 Traceback (most recent call last)",
      "\u001b[1;32m~\\AppData\\Local\\Temp/ipykernel_9620/541493551.py\u001b[0m in \u001b[0;36m<module>\u001b[1;34m\u001b[0m\n\u001b[1;32m----> 1\u001b[1;33m \u001b[0ml2\u001b[0m\u001b[1;33m.\u001b[0m\u001b[0mcount\u001b[0m\u001b[1;33m(\u001b[0m\u001b[1;33m)\u001b[0m\u001b[1;33m\u001b[0m\u001b[1;33m\u001b[0m\u001b[0m\n\u001b[0m",
      "\u001b[1;31mTypeError\u001b[0m: list.count() takes exactly one argument (0 given)"
     ]
    }
   ],
   "source": [
    "l2.count()"
   ]
  },
  {
   "cell_type": "code",
   "execution_count": 244,
   "id": "ff99b5ce",
   "metadata": {},
   "outputs": [
    {
     "data": {
      "text/plain": [
       "1"
      ]
     },
     "execution_count": 244,
     "metadata": {},
     "output_type": "execute_result"
    }
   ],
   "source": [
    "l2.count([232, 3232, 32323, 23, 23])"
   ]
  },
  {
   "cell_type": "code",
   "execution_count": 245,
   "id": "08d769af",
   "metadata": {},
   "outputs": [
    {
     "data": {
      "text/plain": [
       "0"
      ]
     },
     "execution_count": 245,
     "metadata": {},
     "output_type": "execute_result"
    }
   ],
   "source": [
    "l2.count('dj')"
   ]
  },
  {
   "cell_type": "code",
   "execution_count": 246,
   "id": "7cc5f963",
   "metadata": {},
   "outputs": [],
   "source": [
    "l2.append(\"dhdskd\")"
   ]
  },
  {
   "cell_type": "code",
   "execution_count": 247,
   "id": "9224dffe",
   "metadata": {},
   "outputs": [],
   "source": [
    "l2.append([23,3,3,23,32])"
   ]
  },
  {
   "cell_type": "code",
   "execution_count": 248,
   "id": "539bc4ef",
   "metadata": {},
   "outputs": [
    {
     "data": {
      "text/plain": [
       "['khan',\n",
       " [232, 3232, 32323, 23, 23],\n",
       " 63.3,\n",
       " 'noman',\n",
       " 'gehghsghd',\n",
       " 'DSJBD',\n",
       " 'dhdskd',\n",
       " [23, 3, 3, 23, 32]]"
      ]
     },
     "execution_count": 248,
     "metadata": {},
     "output_type": "execute_result"
    }
   ],
   "source": [
    "l2"
   ]
  },
  {
   "cell_type": "code",
   "execution_count": 249,
   "id": "333e6e74",
   "metadata": {},
   "outputs": [],
   "source": [
    "l1.extend([2,23,4,4,\"shs\"])"
   ]
  },
  {
   "cell_type": "code",
   "execution_count": 250,
   "id": "02c2366b",
   "metadata": {},
   "outputs": [
    {
     "data": {
      "text/plain": [
       "[5646467, 'noman', 46634, 2, 23, 4, 4, 'shs']"
      ]
     },
     "execution_count": 250,
     "metadata": {},
     "output_type": "execute_result"
    }
   ],
   "source": [
    "l1"
   ]
  },
  {
   "cell_type": "code",
   "execution_count": null,
   "id": "be34c600",
   "metadata": {},
   "outputs": [],
   "source": []
  }
 ],
 "metadata": {
  "kernelspec": {
   "display_name": "Python 3 (ipykernel)",
   "language": "python",
   "name": "python3"
  },
  "language_info": {
   "codemirror_mode": {
    "name": "ipython",
    "version": 3
   },
   "file_extension": ".py",
   "mimetype": "text/x-python",
   "name": "python",
   "nbconvert_exporter": "python",
   "pygments_lexer": "ipython3",
   "version": "3.9.7"
  }
 },
 "nbformat": 4,
 "nbformat_minor": 5
}
